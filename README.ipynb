{
 "cells": [
  {
   "cell_type": "code",
   "execution_count": 1,
   "metadata": {},
   "outputs": [],
   "source": [
    "import pandas as pd\n",
    "import os\n",
    "import numpy as np"
   ]
  },
  {
   "cell_type": "code",
   "execution_count": 2,
   "metadata": {},
   "outputs": [],
   "source": [
    "pwd = os.getcwd()"
   ]
  },
  {
   "cell_type": "code",
   "execution_count": 34,
   "metadata": {},
   "outputs": [
    {
     "data": {
      "text/plain": [
       "'c:\\\\Users\\\\9ayus\\\\OneDrive\\\\Documents\\\\Projects\\\\Unicorns Worldwide/Unicorn_Companies.csv'"
      ]
     },
     "execution_count": 34,
     "metadata": {},
     "output_type": "execute_result"
    }
   ],
   "source": [
    "filepath = pwd + \"/Unicorn_Companies.csv\"\n",
    "# filepath "
   ]
  },
  {
   "cell_type": "code",
   "execution_count": null,
   "metadata": {},
   "outputs": [],
   "source": [
    "unicorn = pd.read_csv(filepath)"
   ]
  },
  {
   "cell_type": "markdown",
   "metadata": {},
   "source": [
    "Data Cleaning"
   ]
  },
  {
   "cell_type": "code",
   "execution_count": null,
   "metadata": {},
   "outputs": [],
   "source": [
    "unicorn.rename(columns={\"Select Inverstors\": \"Select Investors\"},inplace=True)"
   ]
  },
  {
   "cell_type": "code",
   "execution_count": null,
   "metadata": {},
   "outputs": [],
   "source": [
    "# checking the datatype\n",
    "\n",
    "print(type(\"Company\"))\n",
    "print(type(\"Valuation ($B)\"))\n",
    "print(type(\"Date Joined\"))\n",
    "print(type(\"Country\"))\n",
    "print(type(\"City\"))\n",
    "print(type(\"Industry\"))\n",
    "print(type(\"Select Inverstors\"))\n",
    "print(type(\"Founded Year\"))\n",
    "print(type(\"Total Raised\"))\n",
    "print(type(\"Financial Stage\"))\n",
    "print(type(\"Investors Count\"))\n",
    "print(type(\"Deal Terms\"))\n",
    "print(type(\"Portfolio Exits\"))"
   ]
  },
  {
   "cell_type": "markdown",
   "metadata": {},
   "source": [
    "Correcting the datatype"
   ]
  },
  {
   "cell_type": "markdown",
   "metadata": {},
   "source": [
    "Updating \"Valuation ($B)\" Column"
   ]
  },
  {
   "cell_type": "code",
   "execution_count": null,
   "metadata": {},
   "outputs": [],
   "source": [
    "# Getting rid of ($)\n",
    "# Converting datatype str to float\n",
    "unicorn[\"Valuation ($B)\"].replace({\"\\$\": \"\"}, inplace=True)\n",
    "unicorn[\"Valuation ($B)\"] = unicorn[\"Valuation ($B)\"].replace({\"\\$\": \" \"}, regex=True)\n",
    "unicorn[\"Valuation ($B)\"] = unicorn[\"Valuation ($B)\"].astype(float)\n",
    "# unicorn"
   ]
  },
  {
   "cell_type": "markdown",
   "metadata": {},
   "source": [
    "Updating \"Date Joined\" column"
   ]
  },
  {
   "cell_type": "code",
   "execution_count": null,
   "metadata": {},
   "outputs": [],
   "source": [
    "# Converting datatype str to datetime\n",
    "pd.to_datetime(unicorn[\"Date Joined\"]) "
   ]
  },
  {
   "cell_type": "markdown",
   "metadata": {},
   "source": [
    "Updating \"Total Raised\" column"
   ]
  },
  {
   "cell_type": "code",
   "execution_count": null,
   "metadata": {},
   "outputs": [],
   "source": [
    "# Getting rid of ($)\n",
    "unicorn[\"Total Raised\"] = unicorn[\"Total Raised\"].replace({\"\\$\": \" \"}, regex=True)\n",
    "\n",
    "# Slicing (\"B\" and \"M\") from the str\n",
    "new_total_raised = unicorn[\"Total Raised\"].str[-1::]\n",
    "\n",
    "# Adding new column and adding the value\n",
    "unicorn[\"Total Raised in Billion or Million\"] = unicorn[\"Total Raised\"].str[-1::]\n",
    "\n",
    "# Replacing the value \n",
    "unicorn[\"Total Raised in Billion or Million\"].replace({\"B\": \"Billion\"}, inplace=True)\n",
    "unicorn[\"Total Raised in Billion or Million\"].replace({\"M\": \"Million\"}, inplace=True)\n",
    "\n",
    "unicorn.rename(columns={\"Total Raised\": \"Total Raised ($)\"}, inplace=True)\n",
    "\n",
    "#Getting rid of (\"B\" and \"M\") from total raised column\n",
    "unicorn[\"Total Raised ($)\"] = unicorn[\"Total Raised ($)\"].map(lambda x: x.rstrip(\"BM\"))\n",
    "# unicorn\n",
    "\n",
    "# Replacing values\n",
    "# Converting datatype from str to float\n",
    "unicorn[\"Total Raised ($)\"] = unicorn[\"Total Raised ($)\"].replace({\"None\": \"0\"}, inplace=True)\n",
    "unicorn[\"Total Raised ($)\"] = unicorn[\"Total Raised ($)\"].astype(float)\n",
    "# unicorn "
   ]
  },
  {
   "cell_type": "markdown",
   "metadata": {},
   "source": [
    "Updating \"Investors count\" column"
   ]
  },
  {
   "cell_type": "code",
   "execution_count": null,
   "metadata": {},
   "outputs": [],
   "source": [
    "# Replacing values\n",
    "# Converting datatype from str to float\n",
    "unicorn[\"Investors Count\"] = unicorn[\"Investors Count\"].replace({\"None\": \"0\"}, regex=True)\n",
    "unicorn[\"Investors Count\"] = unicorn[\"Investors Count\"].astype(float)\n",
    "# unicorn "
   ]
  },
  {
   "cell_type": "markdown",
   "metadata": {},
   "source": [
    "Updating \"Industry\" column"
   ]
  },
  {
   "cell_type": "code",
   "execution_count": null,
   "metadata": {},
   "outputs": [],
   "source": [
    "# Checking for unique values\n",
    "unicorn[\"Industry\"].value_counts().reset_index()\n",
    "\n",
    "# Replacing the value\n",
    "unicorn.replace({\"Artificial Intelligence\": \"Artificial intelligence\", \"Finttech\": \"Fintech\"}, inplace=True)\n",
    "unicorn[\"Industry\"].value_counts().reset_index() "
   ]
  },
  {
   "cell_type": "markdown",
   "metadata": {},
   "source": [
    "Updating \"Deal Terms\" column"
   ]
  },
  {
   "cell_type": "code",
   "execution_count": 42,
   "metadata": {},
   "outputs": [],
   "source": [
    "# Checking the unique value and replacing them\n",
    "# Converting datatype from str to float\n",
    "unicorn[\"Deal Terms\"].unique() \n",
    "unicorn[\"Deal Terms\"] = unicorn[\"Deal Terms\"].replace({\"None\": \"0\"})\n",
    "unicorn[\"Deal Terms\"] = unicorn[\"Deal Terms\"].astype(float) "
   ]
  },
  {
   "cell_type": "code",
   "execution_count": 43,
   "metadata": {},
   "outputs": [],
   "source": [
    "# Checking for unique values\n",
    "unicorn[\"Portfolio Exits\"].value_counts().reset_index()\n",
    "\n",
    "# Replacing values\n",
    "# Converting datatype from str to float\n",
    "unicorn[\"Portfolio Exits\"] = unicorn[\"Portfolio Exits\"].replace({\"None\": \"0\"},)\n",
    "unicorn[\"Portfolio Exits\"] = unicorn[\"Portfolio Exits\"].astype(float) "
   ]
  },
  {
   "cell_type": "code",
   "execution_count": null,
   "metadata": {},
   "outputs": [],
   "source": [
    "# Checking the number of unique contries\n",
    "unicorn[\"Country\"].value_counts().reset_index()"
   ]
  }
 ],
 "metadata": {
  "interpreter": {
   "hash": "5389607b59f998d1bcc1536bcbc1ef72ac20a2101847378accfaa296f15169bf"
  },
  "kernelspec": {
   "display_name": "Python 3.9.12 64-bit (windows store)",
   "language": "python",
   "name": "python3"
  },
  "language_info": {
   "codemirror_mode": {
    "name": "ipython",
    "version": 3
   },
   "file_extension": ".py",
   "mimetype": "text/x-python",
   "name": "python",
   "nbconvert_exporter": "python",
   "pygments_lexer": "ipython3",
   "version": "3.9.12"
  },
  "orig_nbformat": 4
 },
 "nbformat": 4,
 "nbformat_minor": 2
}
